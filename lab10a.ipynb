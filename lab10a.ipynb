{
  "nbformat": 4,
  "nbformat_minor": 0,
  "metadata": {
    "colab": {
      "name": "lab10a.ipynb",
      "version": "0.3.2",
      "provenance": [],
      "collapsed_sections": [],
      "toc_visible": true,
      "include_colab_link": true
    },
    "kernelspec": {
      "display_name": "Python 3",
      "language": "python",
      "name": "python3"
    }
  },
  "cells": [
    {
      "cell_type": "markdown",
      "metadata": {
        "id": "view-in-github",
        "colab_type": "text"
      },
      "source": [
        "<a href=\"https://colab.research.google.com/github/dorienh/computational_data_science/blob/master/lab10a.ipynb\" target=\"_parent\"><img src=\"https://colab.research.google.com/assets/colab-badge.svg\" alt=\"Open In Colab\"/></a>"
      ]
    },
    {
      "metadata": {
        "colab_type": "text",
        "id": "KDMeojC4XA9R"
      },
      "cell_type": "markdown",
      "source": [
        "## Training a word2vec model from scratch\n",
        "\n",
        "-- Prof. Dorien Herremans\n",
        "\n",
        "We will start by training a word2vec model from scratch using the gensim library. You will need to ensure that you have gensim installed, and a file decompressor to load our dataset. \n",
        "\n",
        "Note: these models may take a while to train. If your computer is very slow, you may want to use Google Colab. "
      ]
    },
    {
      "metadata": {
        "colab_type": "code",
        "id": "f5wZmGH0XHYP",
        "colab": {}
      },
      "cell_type": "code",
      "source": [
        "# if you need to install: \n",
        "# !pip install gensim\n",
        "\n",
        "# imports needed \n",
        "import gzip\n",
        "import gensim "
      ],
      "execution_count": 0,
      "outputs": []
    },
    {
      "metadata": {
        "id": "02-XoaTBYuY1",
        "colab_type": "text"
      },
      "cell_type": "markdown",
      "source": [
        "We will train our model using a very small dataset for demonstrative purposes. Note that for a real data science project you should train on a much larger dataset. \n",
        "\n",
        "We will use the complete works of Shakespeare. You can download the txt file at http://dorienherremans.com/drop/cds/ (don't forget the trailing /)\n",
        "\n",
        "If you use Colab, a quick way to get big data files in there is through Dropbox. Use the below script to move. **Those of you running this on your own machine or using the upload function, please skip this and g to the next step.**\n",
        "\n"
      ]
    },
    {
      "metadata": {
        "id": "1Tg9GZzYt4nf",
        "colab_type": "code",
        "colab": {}
      },
      "cell_type": "code",
      "source": [
        "# !pip install dropbox\n",
        "# import dropbox\n",
        "access_token = 'your_api_code_get_at' # https://www.dropbox.com/developers/apps\n",
        "dbx = dropbox.Dropbox(access_token)\n",
        "\n",
        "# response = dbx.files_list_folder(\"\")\n",
        "\n",
        "j = \"/Your path in your dropbox/shakespeare.txt\"\n",
        "dbx.files_download_to_file('/shakespeare.txt', j)\n"
      ],
      "execution_count": 0,
      "outputs": []
    },
    {
      "metadata": {
        "id": "nKHwTYP3YpJZ",
        "colab_type": "text"
      },
      "cell_type": "markdown",
      "source": [
        "Let's read the input file and convert each line into a list of words (tokenizing). "
      ]
    },
    {
      "metadata": {
        "id": "F8J2jQ1JYpJd",
        "colab_type": "code",
        "colab": {
          "base_uri": "https://localhost:8080/",
          "height": 52
        },
        "outputId": "b896bc6c-c5a9-4b62-facc-0c85ada6e535"
      },
      "cell_type": "code",
      "source": [
        "def read_input(input_file):\n",
        "    \"\"\"This method reads the input file which is in gzip format\"\"\"\n",
        "    \n",
        "    print(\"reading file...\")\n",
        "      \n",
        "    with open (input_file, 'r') as f:   \n",
        "        lines = f.readlines()\n",
        "        for line in lines:\n",
        "            # do some pre-processing and return a list of words for each review text\n",
        "            # you can print the output here to understand the preprocessing (tokenizing)\n",
        "            yield gensim.utils.simple_preprocess (line)\n",
        "\n",
        "# read the tokenized reviews into a list\n",
        "# each review item becomes a series of words\n",
        "# so this becomes a list of lists\n",
        "\n",
        "# point to the location on your filesystem\n",
        "data_file = 'data/shakespeare.txt'\n",
        "\n",
        "documents = list (read_input (data_file))\n",
        "print(\"Done reading data file\")"
      ],
      "execution_count": 18,
      "outputs": [
        {
          "output_type": "stream",
          "text": [
            "reading file...\n",
            "Done reading data file\n"
          ],
          "name": "stdout"
        }
      ]
    },
    {
      "metadata": {
        "id": "ZnDX2S9eX1Ub",
        "colab_type": "text"
      },
      "cell_type": "markdown",
      "source": [
        "Now let's train the word2vec model using our document variable (which is a list of word lists). Note that you can specify a number of hyperparameters below:\n",
        "* min_count removes all words that occur less then min_count\n",
        "* window: window size in the skip-gram\n",
        "* workers: how many threads to use\n",
        "* size: number of dimension of your new word embedding vector (typically 100-200). Smaller datasets require a smaller number\n",
        "\n"
      ]
    },
    {
      "metadata": {
        "colab_type": "code",
        "id": "VJWmrzCRZm9Z",
        "outputId": "ed5c0260-ebf9-4d29-c7ea-b5017905bc73",
        "colab": {
          "base_uri": "https://localhost:8080/",
          "height": 34
        }
      },
      "cell_type": "code",
      "source": [
        "model = gensim.models.Word2Vec (documents, size=150, window=5, min_count=2, workers=4)\n",
        "model.train(documents,total_examples=len(documents),epochs=10)"
      ],
      "execution_count": 20,
      "outputs": [
        {
          "output_type": "execute_result",
          "data": {
            "text/plain": [
              "(6704230, 8675160)"
            ]
          },
          "metadata": {
            "tags": []
          },
          "execution_count": 20
        }
      ]
    },
    {
      "metadata": {
        "id": "0hKwagKCYpJ7",
        "colab_type": "text"
      },
      "cell_type": "markdown",
      "source": [
        "That's it! Now you've trained the model! \n",
        "\n",
        "Now let's explore some properties of our new word space. You can get the words most close (read:  most similar) to a given word: "
      ]
    },
    {
      "metadata": {
        "colab_type": "code",
        "id": "MTGeHhiaZzIU",
        "outputId": "a2965b81-b3f3-43c9-c35b-fc0a14658975",
        "colab": {
          "base_uri": "https://localhost:8080/",
          "height": 245
        }
      },
      "cell_type": "code",
      "source": [
        "w1 = \"king\"\n",
        "model.wv.most_similar (positive=w1)"
      ],
      "execution_count": 21,
      "outputs": [
        {
          "output_type": "stream",
          "text": [
            "/usr/local/lib/python3.6/dist-packages/gensim/matutils.py:737: FutureWarning: Conversion of the second argument of issubdtype from `int` to `np.signedinteger` is deprecated. In future, it will be treated as `np.int64 == np.dtype(int).type`.\n",
            "  if np.issubdtype(vec.dtype, np.int):\n"
          ],
          "name": "stderr"
        },
        {
          "output_type": "execute_result",
          "data": {
            "text/plain": [
              "[('prince', 0.6650828719139099),\n",
              " ('duke', 0.5773294568061829),\n",
              " ('warwick', 0.544701099395752),\n",
              " ('bolingbroke', 0.5413240194320679),\n",
              " ('fifth', 0.5237143635749817),\n",
              " ('ghost', 0.5168851613998413),\n",
              " ('sixth', 0.5164535641670227),\n",
              " ('emperor', 0.4842527508735657),\n",
              " ('bastard', 0.4839220941066742),\n",
              " ('plantagenet', 0.48241090774536133)]"
            ]
          },
          "metadata": {
            "tags": []
          },
          "execution_count": 21
        }
      ]
    },
    {
      "metadata": {
        "colab_type": "code",
        "id": "GuJhHUOve1km",
        "outputId": "588f5b93-2a31-4a03-82d2-e31787d71bd7",
        "colab": {
          "base_uri": "https://localhost:8080/",
          "height": 176
        }
      },
      "cell_type": "code",
      "source": [
        "# look up top 6 words similar to 'smile'\n",
        "w1 = [\"smile\"]\n",
        "model.wv.most_similar (positive=w1,topn=6)"
      ],
      "execution_count": 22,
      "outputs": [
        {
          "output_type": "stream",
          "text": [
            "/usr/local/lib/python3.6/dist-packages/gensim/matutils.py:737: FutureWarning: Conversion of the second argument of issubdtype from `int` to `np.signedinteger` is deprecated. In future, it will be treated as `np.int64 == np.dtype(int).type`.\n",
            "  if np.issubdtype(vec.dtype, np.int):\n"
          ],
          "name": "stderr"
        },
        {
          "output_type": "execute_result",
          "data": {
            "text/plain": [
              "[('laugh', 0.756415605545044),\n",
              " ('blush', 0.6869995594024658),\n",
              " ('tremble', 0.6863462328910828),\n",
              " ('wink', 0.6765829920768738),\n",
              " ('grieve', 0.6550654768943787),\n",
              " ('weep', 0.649163544178009)]"
            ]
          },
          "metadata": {
            "tags": []
          },
          "execution_count": 22
        }
      ]
    },
    {
      "metadata": {
        "colab_type": "code",
        "id": "iZu3GGf9e41V",
        "colab": {
          "base_uri": "https://localhost:8080/",
          "height": 176
        },
        "outputId": "bd278f46-34e1-4171-dd17-9459aca29b26"
      },
      "cell_type": "code",
      "source": [
        "# look up top 6 words similar to 'france'\n",
        "w1 = [\"france\"]\n",
        "model.wv.most_similar (positive=w1,topn=6)"
      ],
      "execution_count": 23,
      "outputs": [
        {
          "output_type": "stream",
          "text": [
            "/usr/local/lib/python3.6/dist-packages/gensim/matutils.py:737: FutureWarning: Conversion of the second argument of issubdtype from `int` to `np.signedinteger` is deprecated. In future, it will be treated as `np.int64 == np.dtype(int).type`.\n",
            "  if np.issubdtype(vec.dtype, np.int):\n"
          ],
          "name": "stderr"
        },
        {
          "output_type": "execute_result",
          "data": {
            "text/plain": [
              "[('england', 0.6280090808868408),\n",
              " ('egypt', 0.5715603232383728),\n",
              " ('rome', 0.5670613050460815),\n",
              " ('wales', 0.5666059851646423),\n",
              " ('princess', 0.5410600304603577),\n",
              " ('orleans', 0.5397579669952393)]"
            ]
          },
          "metadata": {
            "tags": []
          },
          "execution_count": 23
        }
      ]
    },
    {
      "metadata": {
        "colab_type": "code",
        "id": "VlDIzGHZe9yN",
        "outputId": "cd0c1dab-5abe-44b4-8550-672a0a1d041f",
        "colab": {
          "base_uri": "https://localhost:8080/",
          "height": 176
        }
      },
      "cell_type": "code",
      "source": [
        "# look up top 6 words similar to 'shocked'\n",
        "w1 = [\"sword\"]\n",
        "model.wv.most_similar (positive=w1,topn=6)"
      ],
      "execution_count": 24,
      "outputs": [
        {
          "output_type": "stream",
          "text": [
            "/usr/local/lib/python3.6/dist-packages/gensim/matutils.py:737: FutureWarning: Conversion of the second argument of issubdtype from `int` to `np.signedinteger` is deprecated. In future, it will be treated as `np.int64 == np.dtype(int).type`.\n",
            "  if np.issubdtype(vec.dtype, np.int):\n"
          ],
          "name": "stderr"
        },
        {
          "output_type": "execute_result",
          "data": {
            "text/plain": [
              "[('head', 0.7731919288635254),\n",
              " ('neck', 0.6952689290046692),\n",
              " ('weapon', 0.690859854221344),\n",
              " ('knife', 0.6845294237136841),\n",
              " ('foot', 0.683414101600647),\n",
              " ('finger', 0.6791764497756958)]"
            ]
          },
          "metadata": {
            "tags": []
          },
          "execution_count": 24
        }
      ]
    },
    {
      "metadata": {
        "colab_type": "code",
        "id": "wvKKzFHbfAnr",
        "outputId": "867a379b-458a-41b5-a609-0f9f472d9780",
        "colab": {
          "base_uri": "https://localhost:8080/",
          "height": 245
        }
      },
      "cell_type": "code",
      "source": [
        "# get everything related to stuff on the royalty\n",
        "w1 = [\"king\",'queen','prince']\n",
        "w2 = ['farmer']\n",
        "model.wv.most_similar (positive=w1,negative=w2,topn=10)"
      ],
      "execution_count": 25,
      "outputs": [
        {
          "output_type": "stream",
          "text": [
            "/usr/local/lib/python3.6/dist-packages/gensim/matutils.py:737: FutureWarning: Conversion of the second argument of issubdtype from `int` to `np.signedinteger` is deprecated. In future, it will be treated as `np.int64 == np.dtype(int).type`.\n",
            "  if np.issubdtype(vec.dtype, np.int):\n"
          ],
          "name": "stderr"
        },
        {
          "output_type": "execute_result",
          "data": {
            "text/plain": [
              "[('duke', 0.6197916269302368),\n",
              " ('princess', 0.5565051436424255),\n",
              " ('warwick', 0.5488515496253967),\n",
              " ('emperor', 0.5200337171554565),\n",
              " ('ghost', 0.5142248868942261),\n",
              " ('cause', 0.49427151679992676),\n",
              " ('comfort', 0.49401700496673584),\n",
              " ('empress', 0.4870476722717285),\n",
              " ('bolingbroke', 0.48613566160202026),\n",
              " ('gods', 0.4674186706542969)]"
            ]
          },
          "metadata": {
            "tags": []
          },
          "execution_count": 25
        }
      ]
    },
    {
      "metadata": {
        "id": "TkQZ1KkiYpK_",
        "colab_type": "text"
      },
      "cell_type": "markdown",
      "source": [
        "Explore the similarity (e.g. distance) between two words. Does it make sense?"
      ]
    },
    {
      "metadata": {
        "colab_type": "code",
        "id": "3nFv31TxfBMX",
        "outputId": "455671b0-8489-4ec2-fc1a-62984b4abb9d",
        "colab": {
          "base_uri": "https://localhost:8080/",
          "height": 89
        }
      },
      "cell_type": "code",
      "source": [
        "# similarity between two similar words\n",
        "model.wv.similarity(w1=\"pretty\",w2=\"beautiful\")\n"
      ],
      "execution_count": 26,
      "outputs": [
        {
          "output_type": "stream",
          "text": [
            "/usr/local/lib/python3.6/dist-packages/gensim/matutils.py:737: FutureWarning: Conversion of the second argument of issubdtype from `int` to `np.signedinteger` is deprecated. In future, it will be treated as `np.int64 == np.dtype(int).type`.\n",
            "  if np.issubdtype(vec.dtype, np.int):\n"
          ],
          "name": "stderr"
        },
        {
          "output_type": "execute_result",
          "data": {
            "text/plain": [
              "0.58568496"
            ]
          },
          "metadata": {
            "tags": []
          },
          "execution_count": 26
        }
      ]
    },
    {
      "metadata": {
        "id": "0PXLoSftYpLO",
        "colab_type": "code",
        "colab": {
          "base_uri": "https://localhost:8080/",
          "height": 89
        },
        "outputId": "72734555-bdc6-4245-fd3d-f0077726d3ab"
      },
      "cell_type": "code",
      "source": [
        "# similarity between two opposing words\n",
        "model.wv.similarity(w1=\"king\",w2=\"farmer\")\n"
      ],
      "execution_count": 27,
      "outputs": [
        {
          "output_type": "stream",
          "text": [
            "/usr/local/lib/python3.6/dist-packages/gensim/matutils.py:737: FutureWarning: Conversion of the second argument of issubdtype from `int` to `np.signedinteger` is deprecated. In future, it will be treated as `np.int64 == np.dtype(int).type`.\n",
            "  if np.issubdtype(vec.dtype, np.int):\n"
          ],
          "name": "stderr"
        },
        {
          "output_type": "execute_result",
          "data": {
            "text/plain": [
              "0.0011845991"
            ]
          },
          "metadata": {
            "tags": []
          },
          "execution_count": 27
        }
      ]
    },
    {
      "metadata": {
        "id": "hpftKgByYpLT",
        "colab_type": "text"
      },
      "cell_type": "markdown",
      "source": [
        "Try some other combinations :) "
      ]
    },
    {
      "metadata": {
        "id": "Nw7Aabx4YpLU",
        "colab_type": "text"
      },
      "cell_type": "markdown",
      "source": [
        "We can even use it to perform more 'smart' assigments: "
      ]
    },
    {
      "metadata": {
        "colab_type": "code",
        "id": "8eO7ra-efKYq",
        "outputId": "856189a3-bc4b-4595-d2a0-97aafd4a507c",
        "colab": {
          "base_uri": "https://localhost:8080/",
          "height": 89
        }
      },
      "cell_type": "code",
      "source": [
        "# Which one is the odd one out in this list?\n",
        "model.wv.doesnt_match([\"cat\",\"dog\",\"france\"])\n"
      ],
      "execution_count": 28,
      "outputs": [
        {
          "output_type": "stream",
          "text": [
            "/usr/local/lib/python3.6/dist-packages/gensim/matutils.py:737: FutureWarning: Conversion of the second argument of issubdtype from `int` to `np.signedinteger` is deprecated. In future, it will be treated as `np.int64 == np.dtype(int).type`.\n",
            "  if np.issubdtype(vec.dtype, np.int):\n"
          ],
          "name": "stderr"
        },
        {
          "output_type": "execute_result",
          "data": {
            "text/plain": [
              "'france'"
            ]
          },
          "metadata": {
            "tags": []
          },
          "execution_count": 28
        }
      ]
    },
    {
      "metadata": {
        "id": "ll3RsRN2YpL3",
        "colab_type": "text"
      },
      "cell_type": "markdown",
      "source": [
        "Output the actual vector of a word: "
      ]
    },
    {
      "metadata": {
        "id": "rEOzUfKcYpL4",
        "colab_type": "code",
        "colab": {
          "base_uri": "https://localhost:8080/",
          "height": 555
        },
        "outputId": "daa62015-eb68-40c3-87f3-157a677c51e5"
      },
      "cell_type": "code",
      "source": [
        "model.wv['france']"
      ],
      "execution_count": 29,
      "outputs": [
        {
          "output_type": "execute_result",
          "data": {
            "text/plain": [
              "array([-1.6336242 ,  0.6392099 ,  0.04320113,  1.712516  , -1.1762713 ,\n",
              "        0.67684656,  0.7460683 , -0.49846935,  1.0546505 , -0.26602426,\n",
              "        1.0185709 , -0.1701143 , -0.4585758 , -0.8700818 ,  1.4620354 ,\n",
              "        0.7234103 , -0.7610655 , -1.25149   , -1.2134558 , -0.04436245,\n",
              "       -0.5336559 , -1.4863238 ,  0.16815951,  0.14970575,  0.54557294,\n",
              "        0.40336707,  1.2183256 ,  0.28746873,  0.32489455,  1.1949903 ,\n",
              "       -0.76268554, -0.49404815, -0.10707795, -0.27087703,  0.28409934,\n",
              "        0.5882856 , -0.2224724 ,  1.495657  ,  0.16390805,  0.8372654 ,\n",
              "        0.6657588 ,  0.29043853,  1.4440564 ,  0.3555851 , -1.0419197 ,\n",
              "       -0.5357952 ,  0.6334692 ,  0.18696813,  0.88203317,  0.26346934,\n",
              "       -0.9685976 ,  0.5370872 , -0.10190926,  0.26336193, -1.0946609 ,\n",
              "        0.26162368, -0.04851169, -0.63192135, -0.9669038 , -0.46926823,\n",
              "       -0.45433334, -0.72869784, -0.54068935, -0.74007815,  1.2149935 ,\n",
              "        1.3453565 ,  0.0292472 ,  0.5851113 ,  0.19322963, -0.45813832,\n",
              "       -1.3552642 ,  0.4852669 ,  0.5388622 ,  0.02687554, -0.5825732 ,\n",
              "       -1.009042  ,  1.1788864 , -0.93997574,  0.2336115 ,  1.3846054 ,\n",
              "       -0.3458589 ,  0.43943474, -0.58963007, -0.7811817 , -0.06226163,\n",
              "       -0.36462978, -0.28302893,  0.1813494 ,  0.01798195,  0.34692153,\n",
              "        1.4911566 ,  0.3011377 , -0.8584633 , -0.03198475, -0.17852943,\n",
              "       -0.35180977,  0.09212025,  0.36551708,  0.67329115, -0.4097984 ,\n",
              "       -0.7663634 , -0.77363336, -0.3612127 ,  0.00278548,  2.5743177 ,\n",
              "       -0.2533735 , -0.22852422,  0.7625742 ,  0.15824904,  0.64481026,\n",
              "        0.3644469 ,  0.66814137, -0.52976817,  0.10597219, -0.5287444 ,\n",
              "        0.23377141,  1.2839031 , -0.0030177 , -1.0345927 ,  0.2653532 ,\n",
              "       -0.7346132 , -0.2912882 ,  1.297368  , -0.43647322, -0.9133563 ,\n",
              "        0.0717466 ,  0.7074859 ,  0.09428498, -0.41150633, -0.943757  ,\n",
              "       -0.3114488 , -0.84275156, -0.90797955, -0.08601058,  0.7742276 ,\n",
              "        0.40092856,  0.2536953 , -0.349259  , -0.00921094,  0.9626882 ,\n",
              "       -1.49028   ,  0.6347972 ,  1.3818511 , -0.6804994 ,  0.27165836,\n",
              "        0.43165666,  1.1331129 ,  0.532644  , -0.3486868 ,  0.02765652],\n",
              "      dtype=float32)"
            ]
          },
          "metadata": {
            "tags": []
          },
          "execution_count": 29
        }
      ]
    },
    {
      "metadata": {
        "id": "1_U5DgEPYpMI",
        "colab_type": "text"
      },
      "cell_type": "markdown",
      "source": [
        "## Bonus: visualising our model in t-SNE: "
      ]
    },
    {
      "metadata": {
        "id": "0g6g7s-MYpMK",
        "colab_type": "code",
        "colab": {
          "base_uri": "https://localhost:8080/",
          "height": 955
        },
        "outputId": "7cd17e24-8f60-4f8b-c569-d56dcf090097"
      },
      "cell_type": "code",
      "source": [
        "from sklearn.manifold import TSNE\n",
        "import matplotlib.pyplot as plt\n",
        "%matplotlib inline\n",
        "\n",
        "def tsne_plot(model):\n",
        "    \"Creates and TSNE model and plots it\"\n",
        "    \n",
        "    # fyi: to test specific labels instead of all the words in the vocab: \n",
        "#     labels = ['king', 'queen', 'prince', 'farmer', 'blue', 'red']\n",
        "#     tokens = []\n",
        "#     for label in labels: \n",
        "#         tokens.append(model[label])\n",
        "\n",
        "    labels = []\n",
        "    tokens = []\n",
        "    \n",
        "    count = 0\n",
        "    for word in model.wv.vocab:\n",
        "        # to speed up the process, let's limit to the first 100 elements\n",
        "        if count < 100:\n",
        "            tokens.append(model[word])\n",
        "            labels.append(word)\n",
        "            count = count+1\n",
        "\n",
        "    # set the t-sne values\n",
        "    tsne_model = TSNE(perplexity=40, n_components=2, init='pca', n_iter=2500, random_state=23)\n",
        "    new_values = tsne_model.fit_transform(tokens)\n",
        "\n",
        "    x = []\n",
        "    y = []\n",
        "    for value in new_values:\n",
        "        x.append(value[0])\n",
        "        y.append(value[1])\n",
        "        \n",
        "    plt.figure(figsize=(16, 16)) \n",
        "    for i in range(len(x)):\n",
        "        plt.scatter(x[i],y[i])\n",
        "        plt.annotate(labels[i],\n",
        "                     xy=(x[i], y[i]),\n",
        "                     xytext=(5, 2),\n",
        "                     textcoords='offset points',\n",
        "                     ha='right',\n",
        "                     va='bottom')\n",
        "    plt.show()\n",
        "    \n",
        "tsne_plot(model)"
      ],
      "execution_count": 30,
      "outputs": [
        {
          "output_type": "stream",
          "text": [
            "/usr/local/lib/python3.6/dist-packages/ipykernel_launcher.py:21: DeprecationWarning: Call to deprecated `__getitem__` (Method will be removed in 4.0.0, use self.wv.__getitem__() instead).\n"
          ],
          "name": "stderr"
        },
        {
          "output_type": "display_data",
          "data": {
            "image/png": "[encoded data removed]",
            "text/plain": [
              "<matplotlib.figure.Figure at 0x7feb9e3125c0>"
            ]
          },
          "metadata": {
            "tags": []
          }
        }
      ]
    },
    {
      "metadata": {
        "id": "UsRf6k4wYpMd",
        "colab_type": "text"
      },
      "cell_type": "markdown",
      "source": [
        "## References\n",
        "\n",
        "* https://radimrehurek.com/gensim/models/word2vec.html\n",
        "* https://towardsdatascience.com/multi-class-text-classification-model-comparison-and-selection-5eb066197568\n",
        "* https://github.com/kavgan/nlp-text-mining-working-examples/tree/master/word2vec\n",
        "* https://medium.com/@mishra.thedeepak/doc2vec-simple-implementation-example-df2afbbfbad5"
      ]
    }
  ]
}